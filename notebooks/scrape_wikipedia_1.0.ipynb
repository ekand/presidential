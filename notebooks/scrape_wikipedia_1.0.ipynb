{
 "cells": [
  {
   "cell_type": "code",
   "execution_count": 1,
   "metadata": {
    "pycharm": {
     "is_executing": false
    }
   },
   "outputs": [],
   "source": [
    "from bs4 import BeautifulSoup"
   ]
  },
  {
   "cell_type": "code",
   "execution_count": 2,
   "metadata": {
    "pycharm": {
     "is_executing": false
    }
   },
   "outputs": [],
   "source": [
    "import requests"
   ]
  },
  {
   "cell_type": "markdown",
   "metadata": {},
   "source": [
    "Start by downloading George Washington's page"
   ]
  },
  {
   "cell_type": "code",
   "execution_count": 3,
   "metadata": {},
   "outputs": [],
   "source": [
    "# url = 'https://en.wikipedia.org/wiki/George_Washington'\n",
    "\n",
    "# response = requests.get(url)"
   ]
  },
  {
   "cell_type": "code",
   "execution_count": 4,
   "metadata": {},
   "outputs": [],
   "source": [
    "# response.status_code  #200 = success!"
   ]
  },
  {
   "cell_type": "code",
   "execution_count": 5,
   "metadata": {},
   "outputs": [],
   "source": [
    "# assert response.status_code == 200"
   ]
  },
  {
   "cell_type": "code",
   "execution_count": 6,
   "metadata": {},
   "outputs": [],
   "source": [
    "# response.text[:1000]  #First 1000 characters of the HTML"
   ]
  },
  {
   "cell_type": "code",
   "execution_count": 7,
   "metadata": {},
   "outputs": [],
   "source": [
    "# page = response.text"
   ]
  },
  {
   "cell_type": "code",
   "execution_count": 8,
   "metadata": {},
   "outputs": [],
   "source": [
    "# soup = BeautifulSoup(page, 'html5lib')"
   ]
  },
  {
   "cell_type": "code",
   "execution_count": 9,
   "metadata": {},
   "outputs": [],
   "source": [
    "# print(soup.prettify()[:1000])"
   ]
  },
  {
   "cell_type": "code",
   "execution_count": 10,
   "metadata": {},
   "outputs": [],
   "source": [
    "# [object2.find('p') for object2 in [object.find_all('div', recursive=False) for object in soup.find_all('body')]]"
   ]
  },
  {
   "cell_type": "code",
   "execution_count": 11,
   "metadata": {},
   "outputs": [],
   "source": [
    "# divs = soup.find('body').find_all('div', recursive=False)"
   ]
  },
  {
   "cell_type": "code",
   "execution_count": 12,
   "metadata": {},
   "outputs": [],
   "source": [
    "# divs"
   ]
  },
  {
   "cell_type": "code",
   "execution_count": 13,
   "metadata": {},
   "outputs": [],
   "source": [
    "# len(page)"
   ]
  },
  {
   "cell_type": "markdown",
   "metadata": {},
   "source": [
    "Now, try to download and get a list of websites of presidencies of the united states."
   ]
  },
  {
   "cell_type": "code",
   "execution_count": 80,
   "metadata": {
    "pycharm": {
     "is_executing": false
    }
   },
   "outputs": [],
   "source": [
    "url2 = 'https://en.wikipedia.org/wiki/List_of_presidents_of_the_United_States'\n",
    "\n",
    "response = requests.get(url2)\n",
    "assert response.status_code == 200, f'server recorded on error on reguest {url2}'"
   ]
  },
  {
   "cell_type": "code",
   "execution_count": 81,
   "metadata": {
    "pycharm": {
     "is_executing": false
    }
   },
   "outputs": [],
   "source": [
    "soup = BeautifulSoup(response.text)"
   ]
  },
  {
   "cell_type": "code",
   "execution_count": 88,
   "metadata": {
    "pycharm": {
     "is_executing": false
    }
   },
   "outputs": [],
   "source": [
    "def parse_presidential_links(soup):\n",
    "    \"\"\"Takes the soup object for the website \n",
    "    <list of presidents of united states>, and \n",
    "    returns a list of links to their wikipedia pages\n",
    "    Note: The links are relative to the wikipedia homepage\n",
    "    \"\"\"\n",
    "    \n",
    "    rows = (soup.find(class_='wikitable').find('tbody')\n",
    "               .find_all('tr'))\n",
    "    links = []\n",
    "    for row in rows: \n",
    "        if len(row.find_all('td')) > 0:\n",
    "            if row.find_all('td')[0].find('a') is not None:\n",
    "                a_tag = row.find_all('td')[0].find('a')\n",
    "                if a_tag.get('title')[0:13] == 'Presidency of':\n",
    "                    links.append(a_tag.get('href'))\n",
    "    return links\n",
    "\n",
    "\n",
    "        \n",
    "        \n",
    "    "
   ]
  },
  {
   "cell_type": "code",
   "execution_count": 86,
   "metadata": {},
   "outputs": [],
   "source": [
    "links = parse_presidential_links(soup)"
   ]
  },
  {
   "cell_type": "code",
   "execution_count": 87,
   "metadata": {
    "pycharm": {
     "name": "#%%\n"
    }
   },
   "outputs": [
    {
     "name": "stdout",
     "output_type": "stream",
     "text": [
      "41\n",
      "['/wiki/Presidency_of_George_Washington', '/wiki/Presidency_of_John_Adams', '/wiki/Presidency_of_Thomas_Jefferson', '/wiki/Presidency_of_James_Madison', '/wiki/Presidency_of_James_Monroe', '/wiki/Presidency_of_John_Quincy_Adams', '/wiki/Presidency_of_Andrew_Jackson', '/wiki/Presidency_of_Martin_Van_Buren', '/wiki/Presidency_of_John_Tyler', '/wiki/Presidency_of_James_K._Polk', '/wiki/Presidency_of_Zachary_Taylor', '/wiki/Presidency_of_Millard_Fillmore', '/wiki/Presidency_of_Franklin_Pierce', '/wiki/Presidency_of_James_Buchanan', '/wiki/Presidency_of_Abraham_Lincoln', '/wiki/Presidency_of_Andrew_Johnson', '/wiki/Presidency_of_Ulysses_S._Grant', '/wiki/Presidency_of_Rutherford_B._Hayes', '/wiki/Presidency_of_Chester_A._Arthur', '/wiki/Presidency_of_Benjamin_Harrison', '/wiki/Presidency_of_William_McKinley', '/wiki/Presidency_of_Theodore_Roosevelt', '/wiki/Presidency_of_William_Howard_Taft', '/wiki/Presidency_of_Woodrow_Wilson', '/wiki/Presidency_of_Warren_G._Harding', '/wiki/Presidency_of_Calvin_Coolidge', '/wiki/Presidency_of_Herbert_Hoover', '/wiki/Presidency_of_Franklin_D._Roosevelt', '/wiki/Presidency_of_Harry_S._Truman', '/wiki/Presidency_of_Dwight_D._Eisenhower', '/wiki/Presidency_of_John_F._Kennedy', '/wiki/Presidency_of_Lyndon_B._Johnson', '/wiki/Presidency_of_Richard_Nixon', '/wiki/Presidency_of_Gerald_Ford', '/wiki/Presidency_of_Jimmy_Carter', '/wiki/Presidency_of_Ronald_Reagan', '/wiki/Presidency_of_George_H._W._Bush', '/wiki/Presidency_of_Bill_Clinton', '/wiki/Presidency_of_George_W._Bush', '/wiki/Presidency_of_Barack_Obama', '/wiki/Presidency_of_Donald_Trump']\n"
     ]
    }
   ],
   "source": [
    "print(len(links))\n",
    "print(links)\n"
   ]
  },
  {
   "cell_type": "code",
   "execution_count": 91,
   "metadata": {},
   "outputs": [],
   "source": [
    "import datetime\n",
    "soups = []\n",
    "for link in links:\n",
    "    wiki_url = 'https://en.wikipedia.org/'\n",
    "    full_url = wiki_url + link\n",
    "    response = requests.get(full_url)\n",
    "    assert response.status_code == 200, f'server recorded on error on reguest {full_url}'\n",
    "    soup = BeautifulSoup(response.text)\n",
    "    soups.append(soup)\n",
    "    "
   ]
  },
  {
   "cell_type": "code",
   "execution_count": 93,
   "metadata": {},
   "outputs": [],
   "source": [
    "lengths =[]\n",
    "for soup in soups:\n",
    "    lengths.append(len(soup.text))"
   ]
  },
  {
   "cell_type": "code",
   "execution_count": 95,
   "metadata": {},
   "outputs": [
    {
     "name": "stdout",
     "output_type": "stream",
     "text": [
      "[166807, 69310, 75610, 74343, 71046, 58103, 104853, 69042, 73576, 83592, 84264, 60306, 65716, 72850, 130189, 83863, 169567, 68055, 54634, 71903, 97646, 101714, 77433, 140200, 98448, 75342, 84855, 193419, 149548, 145732, 121269, 128179, 124874, 81437, 113744, 106753, 89129, 84335, 110310, 200050, 303065]\n"
     ]
    }
   ],
   "source": [
    "print(lengths)"
   ]
  },
  {
   "cell_type": "code",
   "execution_count": 96,
   "metadata": {},
   "outputs": [],
   "source": [
    "import matplotlib.pyplot as plt"
   ]
  },
  {
   "cell_type": "code",
   "execution_count": 97,
   "metadata": {},
   "outputs": [
    {
     "data": {
      "text/plain": [
       "[<matplotlib.lines.Line2D at 0x1036fb9510>]"
      ]
     },
     "execution_count": 97,
     "metadata": {},
     "output_type": "execute_result"
    },
    {
     "data": {
      "image/png": "[encoded data removed]",
      "text/plain": [
       "<Figure size 432x288 with 1 Axes>"
      ]
     },
     "metadata": {
      "needs_background": "light"
     },
     "output_type": "display_data"
    }
   ],
   "source": [
    "plt.plot(lengths)"
   ]
  },
  {
   "cell_type": "code",
   "execution_count": null,
   "metadata": {},
   "outputs": [],
   "source": []
  }
 ],
 "metadata": {
  "kernelspec": {
   "display_name": "Python [conda env:metis] *",
   "language": "python",
   "name": "conda-env-metis-py"
  },
  "language_info": {
   "codemirror_mode": {
    "name": "ipython",
    "version": 3
   },
   "file_extension": ".py",
   "mimetype": "text/x-python",
   "name": "python",
   "nbconvert_exporter": "python",
   "pygments_lexer": "ipython3",
   "version": "3.7.4"
  },
  "pycharm": {
   "stem_cell": {
    "cell_type": "raw",
    "metadata": {
     "collapsed": false
    },
    "source": []
   }
  },
  "toc": {
   "base_numbering": 1,
   "nav_menu": {},
   "number_sections": true,
   "sideBar": true,
   "skip_h1_title": false,
   "title_cell": "Table of Contents",
   "title_sidebar": "Contents",
   "toc_cell": false,
   "toc_position": {},
   "toc_section_display": true,
   "toc_window_display": false
  }
 },
 "nbformat": 4,
 "nbformat_minor": 2
}
